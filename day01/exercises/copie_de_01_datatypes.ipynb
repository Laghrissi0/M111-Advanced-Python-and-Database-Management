{
  "cells": [
    {
      "cell_type": "markdown",
      "metadata": {
        "id": "view-in-github",
        "colab_type": "text"
      },
      "source": [
        "<a href=\"https://colab.research.google.com/github/Laghrissi0/M111-Advanced-Python-and-Database-Management/blob/main/copie_de_01_datatypes.ipynb\" target=\"_parent\"><img src=\"https://colab.research.google.com/assets/colab-badge.svg\" alt=\"Open In Colab\"/></a>"
      ]
    },
    {
      "cell_type": "markdown",
      "metadata": {
        "id": "W1X2BgScJHoT"
      },
      "source": [
        "# Datatypes exercises"
      ]
    },
    {
      "cell_type": "markdown",
      "metadata": {
        "id": "EwGtYSpyJHoV"
      },
      "source": [
        "## Exercise 1"
      ]
    },
    {
      "cell_type": "markdown",
      "metadata": {
        "id": "Ds2sE6M2JHoW"
      },
      "source": [
        "Write the following mathematical formula in Python:\n",
        "\n",
        "\\begin{align}\n",
        " result = 6a^3 - \\frac{8b^2 }{4c} + 11\n",
        "\\end{align}\n",
        "\n",
        "```python\n",
        "a = 2\n",
        "b = 3\n",
        "c = 2\n",
        "```\n",
        "\n",
        "> write your formula as \n",
        "```python\n",
        "result = \n",
        "```\n",
        "\n",
        "It must verify\n",
        "```python\n",
        ">>> assert result == 50"
      ]
    },
    {
      "cell_type": "code",
      "execution_count": null,
      "metadata": {
        "colab": {
          "base_uri": "https://localhost:8080/"
        },
        "id": "fVp84YUHJHoW",
        "outputId": "a1d099b6-d2bf-4047-f06a-9eb94d926d97"
      },
      "outputs": [
        {
          "output_type": "stream",
          "name": "stdout",
          "text": [
            "50.0\n"
          ]
        }
      ],
      "source": [
        "def Result(a,b,c) : \n",
        "  result = 0\n",
        "  if c!= 0 :\n",
        "    result = (6*a**3) - ((8*b**2)/(4*c)) + 11\n",
        "  else :\n",
        "    print(\"we can't devide by a null number\")\n",
        "  return result\n",
        "result = Result(2,3,2)\n",
        "print(result)"
      ]
    },
    {
      "cell_type": "markdown",
      "metadata": {
        "id": "vnvYZLQGJHoX"
      },
      "source": [
        "## Exercise 2"
      ]
    },
    {
      "cell_type": "markdown",
      "metadata": {
        "id": "e27veDQEJHoY"
      },
      "source": [
        "Explain why the folowing assertion fails"
      ]
    },
    {
      "cell_type": "code",
      "execution_count": null,
      "metadata": {
        "colab": {
          "base_uri": "https://localhost:8080/"
        },
        "id": "cnhzwqM_JHoY",
        "outputId": "af978a0a-005e-482e-d9b0-856c1b8f3b5d"
      },
      "outputs": [
        {
          "output_type": "stream",
          "name": "stdout",
          "text": [
            "the 0.1 and the 0.2 are float numbers their some with precision will be double also the 0.3 is float so we can't stock a double value in a float\n"
          ]
        }
      ],
      "source": [
        "print(\"the 0.1 and the 0.2 are float numbers their some with precision will be double also the 0.3 is float so we can't stock a double value in a float\")"
      ]
    },
    {
      "cell_type": "markdown",
      "metadata": {
        "id": "wwHLKffvJHoY"
      },
      "source": [
        "## Exercise 3"
      ]
    },
    {
      "cell_type": "markdown",
      "metadata": {
        "id": "6SzGpNbgJHoZ"
      },
      "source": [
        "Write a Python program to sum all the items in a list"
      ]
    },
    {
      "cell_type": "code",
      "execution_count": null,
      "metadata": {
        "colab": {
          "base_uri": "https://localhost:8080/"
        },
        "id": "BDi5VazmJHoZ",
        "outputId": "4afed8c5-46b2-4f5f-bfd9-e2c4bef8406f"
      },
      "outputs": [
        {
          "output_type": "stream",
          "name": "stdout",
          "text": [
            "25\n"
          ]
        }
      ],
      "source": [
        "def sum_of_list(L):\n",
        "  sum = 0\n",
        "  for i in L :\n",
        "    sum += i\n",
        "  return sum\n",
        "L = [1, 3, 5, 7, 9]\n",
        "sum = sum_of_list(L)\n",
        "print(sum)"
      ]
    },
    {
      "cell_type": "markdown",
      "metadata": {
        "id": "wVFumyS_JHoZ"
      },
      "source": [
        "## Exercise 4"
      ]
    },
    {
      "cell_type": "markdown",
      "metadata": {
        "id": "h9d0LYTAJHoZ"
      },
      "source": [
        "Write a program that asks how long it took to run 10 km today. The program continues to ask how long (in minutes) it took for additional runs, until the user enters q. At that point, the program exits — but only after calculating and displaying the average time that the 10 km run took.  \n",
        "\n",
        "\n",
        "Example:\n",
        "```\n",
        "Enter 10 km run time: 15\n",
        "Enter 10 km run time: 20\n",
        "Enter 10 km run time: 10\n",
        "Enter 10 km run time: q\n",
        "\n",
        "Average of 15.0, over 3 runs\n",
        "```"
      ]
    },
    {
      "cell_type": "code",
      "source": [
        " i = 0\n",
        " j = 0\n",
        " sum = 0\n",
        " cpt = 0\n",
        " q=0\n",
        " while True :\n",
        "   i = input('Enter 10 km run time : ')\n",
        "   if i == 'q':\n",
        "     break\n",
        "   j = int(i)\n",
        "   sum = sum + j\n",
        "   cpt += 1\n",
        "average = sum/cpt\n",
        "print(average)\n"
      ],
      "metadata": {
        "colab": {
          "base_uri": "https://localhost:8080/"
        },
        "id": "DcrkXYQpQa7t",
        "outputId": "db63260a-e927-4699-ded4-c203610a0789"
      },
      "execution_count": null,
      "outputs": [
        {
          "output_type": "stream",
          "name": "stdout",
          "text": [
            "Enter 10 km run time : 15\n",
            "Enter 10 km run time : 20\n",
            "Enter 10 km run time : 10\n",
            "Enter 10 km run time : q\n",
            "15.0\n"
          ]
        }
      ]
    },
    {
      "cell_type": "markdown",
      "metadata": {
        "id": "E_TdqPnQJHoa"
      },
      "source": [
        "## Exercise 5"
      ]
    },
    {
      "cell_type": "markdown",
      "metadata": {
        "id": "yCaSEwZHJHoa"
      },
      "source": [
        "Write a function that takes a string and returns the sorted string."
      ]
    },
    {
      "cell_type": "code",
      "execution_count": null,
      "metadata": {
        "id": "m0S9xeVEJHoa",
        "colab": {
          "base_uri": "https://localhost:8080/"
        },
        "outputId": "a7cb24a0-c353-4dfc-aae6-6fee634bf980"
      },
      "outputs": [
        {
          "output_type": "stream",
          "name": "stdout",
          "text": [
            "['a', 'b', 'c']\n"
          ]
        }
      ],
      "source": [
        "L=[\"c\",\"a\",\"b\"]\n",
        "k = len(L)\n",
        "for i in range(k):\n",
        "    for j in range(i+1,k):\n",
        "        if L[i] > L[j]:\n",
        "              s = L[i]\n",
        "              L[i] = L[j]\n",
        "              L[j] = s\n",
        "print(L)"
      ]
    },
    {
      "cell_type": "markdown",
      "metadata": {
        "id": "DFtpK56pJHoa"
      },
      "source": [
        "## Exercise 6"
      ]
    },
    {
      "cell_type": "markdown",
      "metadata": {
        "id": "da25IecXJHob"
      },
      "source": [
        "Write a function that take a string of multiple words and returns the position of the word with most repeated letters"
      ]
    },
    {
      "cell_type": "code",
      "execution_count": null,
      "metadata": {
        "id": "F8UBWPMrJHob",
        "colab": {
          "base_uri": "https://localhost:8080/"
        },
        "outputId": "ed49297d-b40b-416d-da5b-dfbf934772aa"
      },
      "outputs": [
        {
          "output_type": "stream",
          "name": "stdout",
          "text": [
            "3\n"
          ]
        }
      ],
      "source": [
        "string = ['this', 'is', 'an', 'elementary', 'test', 'example']\n",
        "def wwmrl(string):\n",
        "    cpt = 0\n",
        "    for i in string:\n",
        "        d = {}\n",
        "        for letter in i:\n",
        "            if letter not in d:\n",
        "                d[letter] = 1\n",
        "            else:\n",
        "                d[letter] += 1\n",
        "            if d[letter]> cpt :\n",
        "                cpt = d[letter]\n",
        "                most_repeated = letter\n",
        "                x = string.index(i)\n",
        "    return x\n",
        "y = wwmrl(s)\n",
        "print(y)"
      ]
    },
    {
      "cell_type": "markdown",
      "metadata": {
        "id": "--DbJAgIJHob"
      },
      "source": [
        "## Exercise 7"
      ]
    },
    {
      "cell_type": "markdown",
      "metadata": {
        "id": "ZxyypZ1yJHob"
      },
      "source": [
        "1. Create a tuple\n",
        "2. Unpack the tuple in multiple variables"
      ]
    },
    {
      "cell_type": "code",
      "execution_count": null,
      "metadata": {
        "id": "dp5dX3bBJHob",
        "colab": {
          "base_uri": "https://localhost:8080/"
        },
        "outputId": "a2cc4a10-8c36-433a-cf9c-cdfe612d6fa9"
      },
      "outputs": [
        {
          "output_type": "stream",
          "name": "stdout",
          "text": [
            "('st', 1, 'QFM')\n",
            "st\n",
            "1\n",
            "QFM\n"
          ]
        }
      ],
      "source": [
        "#create tuple\n",
        "my_tuple = ('st', 1, 'QFM')\n",
        "#print it\n",
        "print(my_tuple)\n",
        "#unpack it in multiple variables\n",
        "x, y, z = my_tuple\n",
        "print(x)\n",
        "print(y)\n",
        "print(z)"
      ]
    },
    {
      "cell_type": "markdown",
      "metadata": {
        "id": "NWOMuuvDJHoc"
      },
      "source": [
        "## Exercise 8"
      ]
    },
    {
      "cell_type": "markdown",
      "metadata": {
        "id": "fPuaE6h6JHoc"
      },
      "source": [
        "Write a Python program to sort a tuple by its float element.  \n",
        "Sample data: `[('item1', '12.20'), ('item2', '15.10'), ('item3', '24.5')]`  \n",
        "Expected Output: `[('item3', '24.5'), ('item2', '15.10'), ('item1', '12.20')]`"
      ]
    },
    {
      "cell_type": "code",
      "execution_count": null,
      "metadata": {
        "id": "gqJmU7IjJHoc",
        "colab": {
          "base_uri": "https://localhost:8080/"
        },
        "outputId": "16e96a70-627c-4c1b-b98b-36ce5cd5b3fe"
      },
      "outputs": [
        {
          "output_type": "stream",
          "name": "stdout",
          "text": [
            "[('item3', '24.5'), ('item2', '15.10'), ('item1', '12.20')]\n"
          ]
        }
      ],
      "source": [
        "def Sort(tuple):\n",
        "    tuple.sort(key = lambda x: float(x[1]), reverse = True)\n",
        "    print(tuple)\n",
        "tuple = [('item1', '12.20'), ('item2', '15.10'), ('item3', '24.5')]\n",
        "Sort(tuple)"
      ]
    },
    {
      "cell_type": "markdown",
      "metadata": {
        "id": "UTszQfElJHoc"
      },
      "source": [
        "## Exercise 9"
      ]
    },
    {
      "cell_type": "markdown",
      "metadata": {
        "id": "05sbSf2zJHoc"
      },
      "source": [
        "Write a Python script to concatenate dictionaries to create a new one."
      ]
    },
    {
      "cell_type": "code",
      "execution_count": null,
      "metadata": {
        "id": "0CUM6IgwJHod",
        "colab": {
          "base_uri": "https://localhost:8080/"
        },
        "outputId": "67ad71f4-15aa-4be9-9d15-9c2f4090ab78"
      },
      "outputs": [
        {
          "output_type": "stream",
          "name": "stdout",
          "text": [
            "{1: 10, 2: 20, 3: 30, 4: 40, 5: 50, 6: 60}\n"
          ]
        }
      ],
      "source": [
        "#\"\"\"Sample Dictionary\"\"\"\n",
        "#dic1={1:10, 2:20}\n",
        "#dic2={3:30, 4:40}\n",
        "#dic3={5:50,6:60}\n",
        "#\"\"\"\"Expected Result : {1: 10, 2: 20, 3: 30, 4: 40, 5: 50, 6: 60}\"\"\"\n",
        "\n",
        "dic1={1:10, 2:20}\n",
        "dic2={3:30, 4:40}\n",
        "dic3={5:50,6:60}\n",
        "Result = {}\n",
        "for i in (dic1, dic2, dic3):\n",
        "   Result.update(i)\n",
        "print(Result)"
      ]
    },
    {
      "cell_type": "markdown",
      "metadata": {
        "id": "N_Kmd9LdJHod"
      },
      "source": [
        "## Exercise 10"
      ]
    },
    {
      "cell_type": "markdown",
      "metadata": {
        "id": "teB-WePVJHod"
      },
      "source": [
        "Write a Python program to combine two dictionary adding values for common keys."
      ]
    },
    {
      "cell_type": "code",
      "execution_count": null,
      "metadata": {
        "id": "VcjumrKEJHod",
        "colab": {
          "base_uri": "https://localhost:8080/"
        },
        "outputId": "0a46606a-f0ea-4e58-81e0-7735083dee43"
      },
      "outputs": [
        {
          "output_type": "stream",
          "name": "stdout",
          "text": [
            "{'a': 400, 'b': 400, 'c': 300, 'd': 400}\n"
          ]
        }
      ],
      "source": [
        "#d1 = {'a': 100, 'b': 200, 'c':300}\n",
        "#d2 = {'a': 300, 'b': 200, 'd':400}\n",
        "#\"\"\"\"Sample output: {'a': 400, 'b': 400, 'd': 400, 'c': 300}\"\"\"\n",
        "\n",
        "d1 = {'a': 100, 'b': 200, 'c':300}\n",
        "d2 = {'a': 300, 'b': 200, 'd':400}\n",
        "d3 = {}\n",
        "d3 = dict(d1)\n",
        "d3.update(d2) \n",
        "for i, j in d1.items():\n",
        "    for x, y in d2.items():\n",
        "        if i == x:\n",
        "            d3[i]=(j+y)\n",
        "print(d3)"
      ]
    },
    {
      "cell_type": "markdown",
      "metadata": {
        "id": "j_8IxzoAJHod"
      },
      "source": [
        "## Exercise 11"
      ]
    },
    {
      "cell_type": "markdown",
      "metadata": {
        "id": "PvY10U2rJHoe"
      },
      "source": [
        "Write a Python program to extract values from a given dictionaries and create a list of lists from those values.\n",
        "\n",
        "Original Dictionary:  \n",
        "`[{'student_id': 1, 'name': 'Jean Castro', 'class': 'V'}, {'student_id': 2, 'name': 'Lula Powell', 'class': 'V'}, {'student_id': 3, 'name': 'Brian Howell', 'class': 'VI'}, {'student_id': 4, 'name': 'Lynne Foster', 'class': 'VI'}, {'student_id': 5, 'name': 'Zachary Simon', 'class': 'VII'}]`  \n",
        "Output:  \n",
        "`[[1, 'Jean Castro', 'V'], [2, 'Lula Powell', 'V'], [3, 'Brian Howell', 'VI'], [4, 'Lynne Foster', 'VI'], [5, 'Zachary Simon', 'VII']]`"
      ]
    },
    {
      "cell_type": "code",
      "execution_count": null,
      "metadata": {
        "id": "u852-YoZJHoe",
        "colab": {
          "base_uri": "https://localhost:8080/"
        },
        "outputId": "ce107217-494c-4f22-e8e6-20af80ba4c3c"
      },
      "outputs": [
        {
          "output_type": "stream",
          "name": "stdout",
          "text": [
            "\n",
            " [[1, 'Jean Castro', 'V'], [2, 'Lula Powell', 'V'], [3, 'Brian Howell', 'VI'], [4, 'Lynne Foster', 'VI'], [5, 'Zachary Simon', 'VII']]\n"
          ]
        }
      ],
      "source": [
        "#data = [{'student_id': 1, 'name': 'Jean Castro', 'class': 'V'}, {'student_id': 2, 'name': 'Lula Powell', 'class': 'V'}, {'student_id': 3, 'name': 'Brian Howell', 'class': 'VI'}, {'student_id': 4, 'name': 'Lynne Foster', 'class': 'VI'}, {'student_id': 5, 'name': 'Zachary Simon', 'class': 'VII'}]\n",
        "\n",
        "def test(dict0, N):\n",
        "    return [list(d[k] for k in N) for d in dict0] \n",
        "data = [{'student_id': 1, 'name': 'Jean Castro', 'class': 'V'}, {'student_id': 2, 'name': 'Lula Powell', 'class': 'V'}, {'student_id': 3, 'name': 'Brian Howell', 'class': 'VI'}, {'student_id': 4, 'name': 'Lynne Foster', 'class': 'VI'}, {'student_id': 5, 'name': 'Zachary Simon', 'class': 'VII'}]\n",
        "print(\"\\n\",test(data,('student_id', 'name', 'class')))"
      ]
    }
  ],
  "metadata": {
    "kernelspec": {
      "display_name": "Python 3.10.4 64-bit",
      "language": "python",
      "name": "python3"
    },
    "language_info": {
      "codemirror_mode": {
        "name": "ipython",
        "version": 3
      },
      "file_extension": ".py",
      "mimetype": "text/x-python",
      "name": "python",
      "nbconvert_exporter": "python",
      "pygments_lexer": "ipython3",
      "version": "3.10.4"
    },
    "orig_nbformat": 4,
    "vscode": {
      "interpreter": {
        "hash": "916dbcbb3f70747c44a77c7bcd40155683ae19c65e1c03b4aa3499c5328201f1"
      }
    },
    "colab": {
      "provenance": [],
      "collapsed_sections": [],
      "include_colab_link": true
    }
  },
  "nbformat": 4,
  "nbformat_minor": 0
}